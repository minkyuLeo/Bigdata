{
 "cells": [
  {
   "cell_type": "markdown",
   "metadata": {},
   "source": [
    "# 데이터 전처리"
   ]
  },
  {
   "cell_type": "markdown",
   "metadata": {
    "vscode": {
     "languageId": "plaintext"
    }
   },
   "source": [
    "## 텍스트 전처리"
   ]
  },
  {
   "cell_type": "markdown",
   "metadata": {},
   "source": [
    "### 영어만 남기기"
   ]
  },
  {
   "cell_type": "code",
   "execution_count": 3,
   "metadata": {},
   "outputs": [
    {
     "name": "stdout",
     "output_type": "stream",
     "text": [
      "Defaulting to user installation because normal site-packages is not writeable\n",
      "Collecting emoji\n",
      "  Downloading emoji-2.14.0-py3-none-any.whl.metadata (5.7 kB)\n",
      "Downloading emoji-2.14.0-py3-none-any.whl (586 kB)\n",
      "   ---------------------------------------- 0.0/586.9 kB ? eta -:--:--\n",
      "   ---------------------------------------- 586.9/586.9 kB 6.9 MB/s eta 0:00:00\n",
      "Installing collected packages: emoji\n",
      "Successfully installed emoji-2.14.0\n",
      "Note: you may need to restart the kernel to use updated packages.\n"
     ]
    }
   ],
   "source": [
    "pip install emoji"
   ]
  },
  {
   "cell_type": "code",
   "execution_count": 4,
   "metadata": {},
   "outputs": [
    {
     "name": "stdout",
     "output_type": "stream",
     "text": [
      "처리된 데이터가 cleaned_english_comments_no_emojis.json에 저장되었습니다.\n"
     ]
    }
   ],
   "source": [
    "import json\n",
    "import re\n",
    "import emoji\n",
    "\n",
    "# JSON 파일 로드\n",
    "file_path = \"merged_all_data_fixed.json\"  # 입력 파일 경로\n",
    "with open(file_path, \"r\", encoding=\"utf-8\") as file:\n",
    "    data = json.load(file)\n",
    "\n",
    "# 이모티콘 제거 함수 정의\n",
    "def remove_emojis(text):\n",
    "    # emoji 모듈을 사용하여 이모티콘 제거\n",
    "    return emoji.replace_emoji(text, replace=\"\")\n",
    "\n",
    "# 영어 댓글인지 확인하는 함수 정의\n",
    "def is_english(text):\n",
    "    # ASCII 문자만 허용 (영어 문자, 숫자, 공백 및 일반적인 특수문자)\n",
    "    return bool(re.match(r\"^[\\x00-\\x7F\\s.,?!'\\\"-]*$\", text))\n",
    "\n",
    "# 데이터 처리: 이모티콘 제거 -> 영어만 남기기\n",
    "for entry in data:\n",
    "    if \"comments\" in entry:  # comments 키가 있는 경우에만 처리\n",
    "        processed_comments = []\n",
    "        for comment in entry[\"comments\"]:\n",
    "            # 이모티콘 제거\n",
    "            clean_comment = remove_emojis(comment)\n",
    "            # 영어 댓글인지 확인 후 추가\n",
    "            if is_english(clean_comment):\n",
    "                processed_comments.append(clean_comment)\n",
    "        # 처리된 댓글로 업데이트\n",
    "        entry[\"comments\"] = processed_comments\n",
    "\n",
    "# 처리된 데이터를 새 JSON 파일로 저장\n",
    "output_path = \"cleaned_english_comments_no_emojis.json\"  # 출력 파일 경로\n",
    "with open(output_path, \"w\", encoding=\"utf-8\") as file:\n",
    "    json.dump(data, file, ensure_ascii=False, indent=4)\n",
    "\n",
    "print(f\"처리된 데이터가 {output_path}에 저장되었습니다.\")\n"
   ]
  },
  {
   "cell_type": "code",
   "execution_count": null,
   "metadata": {},
   "outputs": [],
   "source": []
  }
 ],
 "metadata": {
  "kernelspec": {
   "display_name": "Python 3",
   "language": "python",
   "name": "python3"
  },
  "language_info": {
   "codemirror_mode": {
    "name": "ipython",
    "version": 3
   },
   "file_extension": ".py",
   "mimetype": "text/x-python",
   "name": "python",
   "nbconvert_exporter": "python",
   "pygments_lexer": "ipython3",
   "version": "3.12.8"
  }
 },
 "nbformat": 4,
 "nbformat_minor": 2
}
