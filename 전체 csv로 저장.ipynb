{
 "cells": [
  {
   "cell_type": "code",
   "execution_count": 2,
   "metadata": {},
   "outputs": [
    {
     "data": {
      "text/plain": [
       "'all_data_with_full_keys.csv'"
      ]
     },
     "execution_count": 2,
     "metadata": {},
     "output_type": "execute_result"
    }
   ],
   "source": [
    "import json\n",
    "import pandas as pd\n",
    "\n",
    "# JSON 파일 경로\n",
    "input_file = 'comments_with_sentiments.json'\n",
    "\n",
    "# JSON 파일 불러오기\n",
    "with open(input_file, 'r', encoding='utf-8') as file:\n",
    "    data = json.load(file)\n",
    "\n",
    "\n",
    "# 모든 키를 포함하여 데이터프레임화\n",
    "\n",
    "# 모든 객체를 하나의 데이터프레임으로 변환 (모든 키 포함)\n",
    "all_data_full = []\n",
    "\n",
    "for match in data:\n",
    "    match_info = match.get('csv_column', {}).copy()\n",
    "    match_info['title'] = match.get('title')\n",
    "    match_info['positive_ratio'] = match.get('sentiment_ratios', {}).get('positive_ratio')\n",
    "    match_info['negative_ratio'] = match.get('sentiment_ratios', {}).get('negative_ratio')\n",
    "    \n",
    "    # 댓글 정보 추가\n",
    "    for comment in match.get('analyzed_comments', []):\n",
    "        row = match_info.copy()\n",
    "        row['comment'] = comment.get('comment')\n",
    "        row['sentiment'] = comment.get('sentiment')\n",
    "        all_data_full.append(row)\n",
    "\n",
    "# 데이터프레임 생성\n",
    "all_data_full_df = pd.DataFrame(all_data_full)\n",
    "\n",
    "# CSV 파일로 저장\n",
    "output_csv_file_full = 'all_data_with_full_keys.csv'\n",
    "all_data_full_df.to_csv(output_csv_file_full, index=False, encoding='utf-8-sig')\n",
    "\n",
    "# 저장된 파일 경로 반환\n",
    "output_csv_file_full\n"
   ]
  },
  {
   "cell_type": "code",
   "execution_count": null,
   "metadata": {},
   "outputs": [],
   "source": []
  }
 ],
 "metadata": {
  "kernelspec": {
   "display_name": "Python 3",
   "language": "python",
   "name": "python3"
  },
  "language_info": {
   "codemirror_mode": {
    "name": "ipython",
    "version": 3
   },
   "file_extension": ".py",
   "mimetype": "text/x-python",
   "name": "python",
   "nbconvert_exporter": "python",
   "pygments_lexer": "ipython3",
   "version": "3.12.8"
  }
 },
 "nbformat": 4,
 "nbformat_minor": 2
}
